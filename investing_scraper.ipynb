{
 "cells": [
  {
   "cell_type": "code",
   "execution_count": 2,
   "metadata": {},
   "outputs": [],
   "source": [
    "import requests"
   ]
  },
  {
   "cell_type": "code",
   "execution_count": 3,
   "metadata": {},
   "outputs": [],
   "source": [
    "from bs4 import BeautifulSoup"
   ]
  },
  {
   "cell_type": "code",
   "execution_count": 4,
   "metadata": {},
   "outputs": [],
   "source": [
    "url = 'https://www.investing.com/equities/tesla-motors-news'"
   ]
  },
  {
   "cell_type": "code",
   "execution_count": 5,
   "metadata": {},
   "outputs": [],
   "source": [
    "headers = {\n",
    "    'User-Agent': 'Mozilla/5.0 (Windows NT 10.0; Win64; x64) AppleWebKit/537.36 (KHTML, like Gecko) Chrome/68.0.3440.84 Safari/537.36',\n",
    "    'accept': 'text/html,application/xhtml+xml,application/xml;q=0.9,image/webp,image/apng,*/*;q=0.8',\n",
    "}"
   ]
  },
  {
   "cell_type": "code",
   "execution_count": 6,
   "metadata": {},
   "outputs": [],
   "source": [
    "html_page = requests.get(url, headers=headers)"
   ]
  },
  {
   "cell_type": "code",
   "execution_count": 7,
   "metadata": {},
   "outputs": [],
   "source": [
    "soup = BeautifulSoup(html_page.text, 'html.parser')"
   ]
  },
  {
   "cell_type": "code",
   "execution_count": 8,
   "metadata": {},
   "outputs": [],
   "source": [
    "#enlaces = soup.find_all('article', attrs={'class':'js-article-item articleItem'})\n",
    "enlaces = soup.find_all('div', attrs={'class':'mediumTitle1'})"
   ]
  },
  {
   "cell_type": "code",
   "execution_count": 9,
   "metadata": {},
   "outputs": [],
   "source": [
    "news = soup.find_all('article', attrs={'class':'js-article-item articleItem'})\n",
    "\n",
    "list_news = []\n",
    "\n",
    "for new in news:\n",
    "    data = {\n",
    "        'Title': new.find('a', attrs={'class':'title'}).get('title'),\n",
    "        \n",
    "        \n",
    "        \n",
    "    }\n",
    "    list_news.append(data)\n",
    "    "
   ]
  },
  {
   "cell_type": "code",
   "execution_count": 13,
   "metadata": {},
   "outputs": [
    {
     "data": {
      "text/plain": [
       "[{'Title': 'Oil dives 3% to below $80/bbl on resurgent pandemic in Europe'},\n",
       " {'Title': 'Oil Down 11% From 2021 Highs as Covid Returns, Consumers Fight Back'},\n",
       " {'Title': 'Nasdaq closes above 16,000 for the first time; Dow down again'},\n",
       " {'Title': 'A Steep Market Correction May Be On The Horizon'},\n",
       " {'Title': 'Is EV-Maker Rivian’s Post-IPO Plunge A Buying Opportunity?'},\n",
       " {'Title': 'NVIDIA Q3 Earnings Preview: Stock’s 130% Rally Leaves No Room For A Miss'},\n",
       " {'Title': 'Nasdaq Eases From Record, But Growth Jitters Lift Tech'},\n",
       " {'Title': \"Tesla Price Target Raised at Wedbush Based on 'Massive' EV Transformation\"},\n",
       " {'Title': \"Detroit's Big Three automakers lag industry on fuel economy\"},\n",
       " {'Title': \"Tesla subjects women to 'nightmarish' sexual harassment at factory - lawsuit\"},\n",
       " {'Title': \"In Los Angeles, Tesla's rivals roll out larger, cheaper electric SUVs\"}]"
      ]
     },
     "execution_count": 13,
     "metadata": {},
     "output_type": "execute_result"
    }
   ],
   "source": [
    "list_news"
   ]
  },
  {
   "cell_type": "code",
   "execution_count": 14,
   "metadata": {},
   "outputs": [
    {
     "data": {
      "text/plain": [
       "list"
      ]
     },
     "execution_count": 14,
     "metadata": {},
     "output_type": "execute_result"
    }
   ],
   "source": [
    "type(list_news)"
   ]
  },
  {
   "cell_type": "code",
   "execution_count": 16,
   "metadata": {},
   "outputs": [],
   "source": [
    "file = open(\"./Output/investing_news.txt\", \"w\")\n",
    "cont_list_news = repr(list_news)\n",
    "file.write(\"list_news = \" + cont_list_news + \"\\n\")\n",
    "\n",
    "\n",
    "file.close()"
   ]
  },
  {
   "cell_type": "code",
   "execution_count": null,
   "metadata": {},
   "outputs": [],
   "source": []
  }
 ],
 "metadata": {
  "interpreter": {
   "hash": "a0be7f60f539fb4a1d9d893164dfd5a3ed5aec8f3b3ff9d325628148abf9e143"
  },
  "kernelspec": {
   "display_name": "Python 3.8.12 64-bit ('base': conda)",
   "language": "python",
   "name": "python3"
  },
  "language_info": {
   "codemirror_mode": {
    "name": "ipython",
    "version": 3
   },
   "file_extension": ".py",
   "mimetype": "text/x-python",
   "name": "python",
   "nbconvert_exporter": "python",
   "pygments_lexer": "ipython3",
   "version": "3.8.12"
  },
  "orig_nbformat": 4
 },
 "nbformat": 4,
 "nbformat_minor": 2
}
