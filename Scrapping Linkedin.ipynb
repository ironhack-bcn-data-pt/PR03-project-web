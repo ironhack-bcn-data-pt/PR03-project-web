{
 "cells": [
  {
   "cell_type": "code",
   "execution_count": 18,
   "id": "eaea2fd2",
   "metadata": {},
   "outputs": [],
   "source": [
    "import requests\n",
    "import pandas as pd\n",
    "import geckodriver_autoinstaller\n",
    "import csv"
   ]
  },
  {
   "cell_type": "code",
   "execution_count": 2,
   "id": "b9c1a03f",
   "metadata": {},
   "outputs": [],
   "source": [
    "from selenium import webdriver"
   ]
  },
  {
   "cell_type": "code",
   "execution_count": 3,
   "id": "5ba6f05e",
   "metadata": {},
   "outputs": [
    {
     "data": {
      "text/plain": [
       "'/usr/local/lib/python3.9/site-packages/geckodriver_autoinstaller/v0.30.0/geckodriver'"
      ]
     },
     "execution_count": 3,
     "metadata": {},
     "output_type": "execute_result"
    }
   ],
   "source": [
    "geckodriver_autoinstaller.install()"
   ]
  },
  {
   "cell_type": "code",
   "execution_count": 4,
   "id": "4d061c33",
   "metadata": {},
   "outputs": [],
   "source": [
    "driver = webdriver.Firefox()"
   ]
  },
  {
   "cell_type": "code",
   "execution_count": 10,
   "id": "74e05697",
   "metadata": {},
   "outputs": [],
   "source": [
    "driver.get('https://www.linkedin.com/jobs/search?keywords=&location=Barcelona&geoId=&trk=public_jobs_jobs-search-bar_search-submit&position=1&pageNum=0')"
   ]
  },
  {
   "cell_type": "code",
   "execution_count": 11,
   "id": "179b6178",
   "metadata": {},
   "outputs": [],
   "source": [
    "job_title = driver.find_element(by='css selector', value = '.dismissable-input__input')"
   ]
  },
  {
   "cell_type": "code",
   "execution_count": 12,
   "id": "958a67bf",
   "metadata": {},
   "outputs": [],
   "source": [
    "location_close= driver.find_element(by='css selector', value = '.typeahead-input__dropdown')"
   ]
  },
  {
   "cell_type": "code",
   "execution_count": null,
   "id": "9fe996f9",
   "metadata": {},
   "outputs": [],
   "source": []
  },
  {
   "cell_type": "code",
   "execution_count": null,
   "id": "899aa355",
   "metadata": {},
   "outputs": [],
   "source": []
  },
  {
   "cell_type": "code",
   "execution_count": null,
   "id": "56d8ef0e",
   "metadata": {},
   "outputs": [],
   "source": [
    "links = []\n",
    "for link in links:\n",
    "    driver = webdriver.Firefox()\n",
    "    driver.get(link)\n",
    "    soup = driver.page_source\n",
    "    codebase = BeautifulSoup(soup, 'lxml')\n",
    "    jobtitle = codebase.title.text\n",
    "    joblocation = codebase.find('span', class_='sub-nav-cta__meta-text')\n",
    "    joblink = codebase.find(\"meta\", property=\"og:url\")\n",
    "    if jobtitle and joblink and joblocation:\n",
    "        csv_writer.writerow([jobtitle, joblink[\"content\"], joblocation.text])\n",
    "    driver.close()"
   ]
  },
  {
   "cell_type": "code",
   "execution_count": null,
   "id": "6ca60044",
   "metadata": {},
   "outputs": [],
   "source": [
    "file = open('/home/bilal/Documents/ray.csv', 'r')\n",
    "csv_save = open('scrapped_final.csv', 'w')\n",
    "\n",
    "csv_reader = csv.reader(file)\n",
    "csv_writer = csv.writer(csv_save)\n",
    "csv_writer.writerow(['Title', 'URL', 'Location'])\n",
    "\n",
    "links = []\n",
    "\n",
    "for rows in csv_reader:\n",
    "    linktext = ''.join(rows)\n",
    "    links.append(linktext)"
   ]
  },
  {
   "cell_type": "code",
   "execution_count": null,
   "id": "4d385198",
   "metadata": {},
   "outputs": [],
   "source": []
  }
 ],
 "metadata": {
  "kernelspec": {
   "display_name": "Python 3 (ipykernel)",
   "language": "python",
   "name": "python3"
  },
  "language_info": {
   "codemirror_mode": {
    "name": "ipython",
    "version": 3
   },
   "file_extension": ".py",
   "mimetype": "text/x-python",
   "name": "python",
   "nbconvert_exporter": "python",
   "pygments_lexer": "ipython3",
   "version": "3.9.7"
  }
 },
 "nbformat": 4,
 "nbformat_minor": 5
}
